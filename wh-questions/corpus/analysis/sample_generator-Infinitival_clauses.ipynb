{
 "cells": [
  {
   "cell_type": "markdown",
   "metadata": {},
   "source": [
    "# sample generator for embedded questions\n",
    "This notebook is for creating the random sample .txt files for the experiment."
   ]
  },
  {
   "cell_type": "code",
   "execution_count": 61,
   "metadata": {},
   "outputs": [],
   "source": [
    "import pandas as pd\n",
    "import numpy as np"
   ]
  },
  {
   "cell_type": "markdown",
   "metadata": {},
   "source": [
    " # Contents\n",
    " 1. [Constrain the data set to stimuli set](#Constrain-the-dataset-to-stimuli-set)\n",
    " 2. [Figuring out the distribution of factors per list](#Figuring-out-the-distribution-of-factors-per-list)\n",
    " 3. [Figure out how to collapse the matrix verb columns](#Figure-out-how-to-collapse-the-matrix-verb-columns)\n",
    " 4. [Add in the paraphrases](#Add-in-the-paraphrases)\n",
    " 5. [Split EntireSentence on Question](#Split-EntireSentence-on-Question)\n",
    " 6. [Controls](#Controls)\n",
    " 7. [Balancing factors](#Balancing-factors)\n",
    "     1. [Modal Balancing](#Modal-Balancing)\n",
    "     2. [Wh Balancing](#Wh-Balancing)\n",
    "         1. [Who](#Who)\n",
    "         2. [What](#What)\n",
    "         3. [Where](#Where)\n",
    "         4. [When](#When)\n",
    "         5. [How](#How)\n",
    "         6. [Why](#Why)\n",
    " 8. [Generating-random-samples](#Generating-random-samples)\n",
    "     1. [First Iteration](#First-Iteration)\n",
    "     2. [Second Iteration](#Second-Itreation)\n",
    "     3. [Third Iteration](#Third-Iteration)\n",
    "     4. [Fourth Iteration](#Fourth-Iteration)\n",
    "     5. [Fifth Iteration](#Fifth-Iteration)\n",
    "     6. [Sixth Iteration](#Sixth-Iteration)\n",
    "     7. [Final Set](#Final-Set)\n",
    " 9. [Pilot Samples](#Pilot-Samples)"
   ]
  },
  {
   "cell_type": "code",
   "execution_count": 62,
   "metadata": {},
   "outputs": [],
   "source": [
    "# import the database file from the TGrep2 searching\n",
    "df = pd.read_csv(\"../results/swbd.tab\", sep='\\t', engine='python')"
   ]
  },
  {
   "cell_type": "code",
   "execution_count": 63,
   "metadata": {
    "scrolled": true
   },
   "outputs": [
    {
     "data": {
      "text/html": [
       "<div>\n",
       "<style scoped>\n",
       "    .dataframe tbody tr th:only-of-type {\n",
       "        vertical-align: middle;\n",
       "    }\n",
       "\n",
       "    .dataframe tbody tr th {\n",
       "        vertical-align: top;\n",
       "    }\n",
       "\n",
       "    .dataframe thead th {\n",
       "        text-align: right;\n",
       "    }\n",
       "</style>\n",
       "<table border=\"1\" class=\"dataframe\">\n",
       "  <thead>\n",
       "    <tr style=\"text-align: right;\">\n",
       "      <th></th>\n",
       "      <th>Item_ID</th>\n",
       "      <th>Sentence</th>\n",
       "      <th>HaveNeedTo</th>\n",
       "      <th>Finite</th>\n",
       "      <th>ModalPresent</th>\n",
       "      <th>QuestionType</th>\n",
       "      <th>EmbeddedSQ</th>\n",
       "      <th>DegreeQ</th>\n",
       "      <th>SubjectAuxInv</th>\n",
       "      <th>WhAll</th>\n",
       "      <th>...</th>\n",
       "      <th>FullWhPhrase</th>\n",
       "      <th>JustMatrixClause</th>\n",
       "      <th>DeterminerSubjPresent</th>\n",
       "      <th>DeterminerNonSubjPresent</th>\n",
       "      <th>WhNode</th>\n",
       "      <th>WhParse</th>\n",
       "      <th>Question</th>\n",
       "      <th>SentenceParse</th>\n",
       "      <th>WhPhaseType</th>\n",
       "      <th>IdentityQ</th>\n",
       "    </tr>\n",
       "  </thead>\n",
       "  <tbody>\n",
       "    <tr>\n",
       "      <th>0</th>\n",
       "      <td>3:43</td>\n",
       "      <td>uh, first, um, i need *-1 to know, uh, how do you feel *t*-2 about, uh, about * sending, uh, an elderly, uh, family member to a nursing home?</td>\n",
       "      <td>no</td>\n",
       "      <td>yes</td>\n",
       "      <td>no</td>\n",
       "      <td>embedded</td>\n",
       "      <td>yes</td>\n",
       "      <td>no</td>\n",
       "      <td>yes</td>\n",
       "      <td>NaN</td>\n",
       "      <td>...</td>\n",
       "      <td>NaN</td>\n",
       "      <td>*-1 to know, uh, how do you feel *t*-2 about, uh, about * sending, uh, an elderly, uh, family member to a nursing home</td>\n",
       "      <td>no</td>\n",
       "      <td>no</td>\n",
       "      <td>NaN</td>\n",
       "      <td>(WRB how)</td>\n",
       "      <td>how do you feel *t*-2 about, uh, about * sending, uh, an elderly, uh, family member to a nursing home</td>\n",
       "      <td>(TOP (S (INTJ (UH Uh)) (, ,) (ADVP-TMP (RB first)) (, ,) (INTJ (UH um)) (, ,) (NP-SBJ-1 (PRP I)) (VP (VBP need) (S (NP-SBJ (-NONE- *-1)) (VP (TO to) (VP (VB know) (, ,) (INTJ (UH uh)) (, ,) (SBARQ (WHADVP-2 (WRB how)) (SQ (VBP do) (NP-SBJ (PRP you)) (VP (VB feel) (ADVP (-NONE- *T*-2)) (EDITED (RM (-DFL- \\[)) (PP-UNF (IN about)) (, ,) (IP (-DFL- \\+))) (INTJ (UH uh)) (, ,) (PP (IN about) (RS (-DFL- \\])) (S-NOM (NP-SBJ (-NONE- *)) (VP (VBG sending) (, ,) (INTJ (UH uh)) (, ,) (NP (DT an) (JJ elderly) (, ,) (INTJ (UH uh)) (, ,) (NN family) (NN member)) (PP-DIR (IN to) (NP (DT a) (NN nursing) (NN home))))))))))))) (. ?) (-DFL- E_S)))</td>\n",
       "      <td>monomorphemic</td>\n",
       "      <td>NaN</td>\n",
       "    </tr>\n",
       "    <tr>\n",
       "      <th>1</th>\n",
       "      <td>17:77</td>\n",
       "      <td>and, uh, we were, i was fortunate in that i was personally acquainted with the, uh, people who, uh, *t*-1 ran the nursing home in our little hometown.</td>\n",
       "      <td>no</td>\n",
       "      <td>yes</td>\n",
       "      <td>no</td>\n",
       "      <td>subject</td>\n",
       "      <td>NaN</td>\n",
       "      <td>no</td>\n",
       "      <td>NaN</td>\n",
       "      <td>NaN</td>\n",
       "      <td>...</td>\n",
       "      <td>who</td>\n",
       "      <td>NaN</td>\n",
       "      <td>no</td>\n",
       "      <td>no</td>\n",
       "      <td>NaN</td>\n",
       "      <td>(WP who)</td>\n",
       "      <td>who, uh, *t*-1 ran the nursing home in our little hometown</td>\n",
       "      <td>(TOP (S (CC And) (, ,) (INTJ (UH uh)) (, ,) (EDITED (RM (-DFL- \\[)) (S (NP-SBJ (PRP we)) (VP-UNF (VBD were))) (, ,) (IP (-DFL- \\+))) (NP-SBJ (PRP I)) (VP (VBD was) (RS (-DFL- \\])) (ADJP-PRD (JJ fortunate) (SBAR-PRP (IN in) (IN that) (-DFL- E_S) (S (NP-SBJ (PRP I)) (VP (VBD was) (ADJP-PRD (RB personally) (VBN acquainted) (PP (IN with) (NP (NP (DT the) (, ,) (INTJ (UH uh)) (, ,) (NNS people)) (SBAR (WHNP-1 (WP who)) (, ,) (INTJ (UH uh)) (, ,) (S (NP-SBJ (-NONE- *T*-1)) (VP (VBD ran) (NP (NP (DT the) (NN nursing) (NN home)) (PP-LOC (IN in) (NP (PRP$ our) (JJ little) (NN hometown))))))))))))))) (. .) (-DFL- E_S)))</td>\n",
       "      <td>monomorphemic</td>\n",
       "      <td>no</td>\n",
       "    </tr>\n",
       "    <tr>\n",
       "      <th>2</th>\n",
       "      <td>21:45</td>\n",
       "      <td>so, i was very comfortable, you know, in *-1 doing it when it got to the point that we had *-2 to do it *t*-3 *t*-4.</td>\n",
       "      <td>yes</td>\n",
       "      <td>yes</td>\n",
       "      <td>no</td>\n",
       "      <td>embadjunct</td>\n",
       "      <td>NaN</td>\n",
       "      <td>no</td>\n",
       "      <td>NaN</td>\n",
       "      <td>NaN</td>\n",
       "      <td>...</td>\n",
       "      <td>when</td>\n",
       "      <td>*-1 doing it when it got to the point that we had *-2 to do it *t*-3 *t*-4</td>\n",
       "      <td>no</td>\n",
       "      <td>no</td>\n",
       "      <td>NaN</td>\n",
       "      <td>(WRB when)</td>\n",
       "      <td>when it got to the point that we had *-2 to do it *t*-3 *t*-4</td>\n",
       "      <td>(TOP (S (RB So) (, ,) (NP-SBJ-1 (PRP I)) (VP (VBD was) (ADJP-PRD (RB very) (JJ comfortable) (PRN (, ,) (S (NP-SBJ (PRP you)) (VP (VBP know))) (, ,)) (PP (IN in) (S-NOM (NP-SBJ (-NONE- *-1)) (VP (VBG doing) (NP (PRP it)) (SBAR-TMP (WHADVP-4 (WRB when)) (S (NP-SBJ (PRP it)) (VP (VBD got) (PP (IN to) (NP (NP (DT the) (NN point)) (SBAR (WHADVP-3 (WDT that)) (S (NP-SBJ-2 (PRP we)) (VP (VBD had) (S (NP-SBJ (-NONE- *-2)) (VP (TO to) (VP (VB do) (NP (PRP it)) (ADVP-TMP (-NONE- *T*-3)))))))))) (ADVP-TMP (-NONE- *T*-4)))))))))) (. .) (-DFL- E_S)))</td>\n",
       "      <td>monomorphemic</td>\n",
       "      <td>no</td>\n",
       "    </tr>\n",
       "    <tr>\n",
       "      <th>3</th>\n",
       "      <td>23:31</td>\n",
       "      <td>well, i had an occasion for my mother-in-law who *t*-1 had fell and needed * to be, you know, could not take care of herself anymore, was confined *-2 to a nursing home for a while</td>\n",
       "      <td>yes</td>\n",
       "      <td>NaN</td>\n",
       "      <td>yes</td>\n",
       "      <td>relative</td>\n",
       "      <td>NaN</td>\n",
       "      <td>no</td>\n",
       "      <td>NaN</td>\n",
       "      <td>NaN</td>\n",
       "      <td>...</td>\n",
       "      <td>who</td>\n",
       "      <td>NaN</td>\n",
       "      <td>no</td>\n",
       "      <td>no</td>\n",
       "      <td>NaN</td>\n",
       "      <td>(WP who)</td>\n",
       "      <td>who *t*-1 had fell and needed * to be, you know, could not take care of herself anymore, was confined *-2 to a nursing home for a while</td>\n",
       "      <td>(TOP (S (INTJ (UH well)) (, ,) (NP-SBJ (PRP I)) (VP (VBD had) (NP (NP (DT an) (NN occasion)) (PP (IN for) (NP (NP (PRP$ my) (NN mother-in-law)) (SBAR (WHNP-1 (WP who)) (S (NP-SBJ-2 (-NONE- *T*-1)) (VP (VP (VBD had) (VP (VBN fell))) (CC and) (EDITED (RM (-DFL- \\[)) (VP (VBD needed) (S (NP-SBJ (-NONE- *)) (VP (TO to) (VP-UNF (VB be))))) (, ,) (IP (-DFL- \\+)) (RS (-DFL- \\]))) (PRN (S (NP-SBJ (PRP you)) (VP (VBP know))) (, ,)) (VP (MD could) (RB not) (VP (VB take) (NP (NN care)) (PP (IN of) (NP (PRP herself))) (ADVP-TMP (RB anymore)))) (, ,) (VP (VBD was) (VP (VBN confined) (NP (-NONE- *-2)) (PP (IN to) (NP (DT a) (NN nursing) (NN home))) (PP-TMP (IN for) (NP (DT a) (NN while)))))))))))) (-DFL- E_S)))</td>\n",
       "      <td>monomorphemic</td>\n",
       "      <td>no</td>\n",
       "    </tr>\n",
       "    <tr>\n",
       "      <th>4</th>\n",
       "      <td>96:22</td>\n",
       "      <td>i mean, for somebody who *t*-1 is, you know, for most of their life has, has, uh, not just merely had a farm but had ten children had a farm, ran everything because her husband was away in the coal mines.</td>\n",
       "      <td>no</td>\n",
       "      <td>yes</td>\n",
       "      <td>no</td>\n",
       "      <td>relative</td>\n",
       "      <td>NaN</td>\n",
       "      <td>no</td>\n",
       "      <td>NaN</td>\n",
       "      <td>NaN</td>\n",
       "      <td>...</td>\n",
       "      <td>who</td>\n",
       "      <td>NaN</td>\n",
       "      <td>no</td>\n",
       "      <td>no</td>\n",
       "      <td>NaN</td>\n",
       "      <td>(WP who)</td>\n",
       "      <td>who *t*-1 is, you know, for most of their life has, has, uh, not just merely had a farm but had ten children had a farm, ran everything because her husband was away in the coal mines</td>\n",
       "      <td>(TOP (FRAG (PRN (S (NP-SBJ (PRP I)) (VP (VBP mean))) (, ,)) (PP (IN for) (NP (NP (NN somebody)) (SBAR (WHNP-1 (WP who)) (S (NP-SBJ (-NONE- *T*-1)) (EDITED (RM (-DFL- \\[)) (VP-UNF (VBZ is)) (, ,) (IP (-DFL- \\+)) (RS (-DFL- \\]))) (PRN (S (NP-SBJ (PRP you)) (VP (VBP know))) (, ,)) (PP-TMP (IN for) (NP (NP (JJS most)) (PP (IN of) (NP (PRP$ their) (NN life))))) (EDITED (RM (-DFL- \\[)) (VP-UNF (VBZ has)) (, ,) (IP (-DFL- \\+))) (VP (VBZ has) (, ,) (RS (-DFL- \\])) (INTJ (UH uh)) (, ,) (RB not) (ADVP (RB just)) (ADVP (RB merely)) (VP (VP (VBN had) (NP (DT a) (NN farm))) (CC but) (VP (VBD had) (NP (CD ten) (NNS children))) (VP (VBD had) (NP (DT a) (NN farm))) (, ,) (VP (VBD ran) (NP (NN everything)) (SBAR-PRP (IN because) (S (NP-SBJ (PRP$ her) (NN husband)) (VP (VBD was) (PP-LOC-PRD (ADVP (RB away)) (IN in) (NP (DT the) (NN coal) (NNS mines))))))))))))) (. .) (-DFL- E_S)))</td>\n",
       "      <td>monomorphemic</td>\n",
       "      <td>no</td>\n",
       "    </tr>\n",
       "  </tbody>\n",
       "</table>\n",
       "<p>5 rows × 43 columns</p>\n",
       "</div>"
      ],
      "text/plain": [
       "  Item_ID  \\\n",
       "0    3:43   \n",
       "1   17:77   \n",
       "2   21:45   \n",
       "3   23:31   \n",
       "4   96:22   \n",
       "\n",
       "                                                                                                                                                                                                       Sentence  \\\n",
       "0                                                                 uh, first, um, i need *-1 to know, uh, how do you feel *t*-2 about, uh, about * sending, uh, an elderly, uh, family member to a nursing home?   \n",
       "1                                                        and, uh, we were, i was fortunate in that i was personally acquainted with the, uh, people who, uh, *t*-1 ran the nursing home in our little hometown.   \n",
       "2                                                                                          so, i was very comfortable, you know, in *-1 doing it when it got to the point that we had *-2 to do it *t*-3 *t*-4.   \n",
       "3                          well, i had an occasion for my mother-in-law who *t*-1 had fell and needed * to be, you know, could not take care of herself anymore, was confined *-2 to a nursing home for a while   \n",
       "4  i mean, for somebody who *t*-1 is, you know, for most of their life has, has, uh, not just merely had a farm but had ten children had a farm, ran everything because her husband was away in the coal mines.   \n",
       "\n",
       "  HaveNeedTo Finite ModalPresent QuestionType EmbeddedSQ DegreeQ  \\\n",
       "0         no    yes           no     embedded        yes      no   \n",
       "1         no    yes           no      subject        NaN      no   \n",
       "2        yes    yes           no   embadjunct        NaN      no   \n",
       "3        yes    NaN          yes     relative        NaN      no   \n",
       "4         no    yes           no     relative        NaN      no   \n",
       "\n",
       "  SubjectAuxInv WhAll  ... FullWhPhrase  \\\n",
       "0           yes   NaN  ...          NaN   \n",
       "1           NaN   NaN  ...          who   \n",
       "2           NaN   NaN  ...         when   \n",
       "3           NaN   NaN  ...          who   \n",
       "4           NaN   NaN  ...          who   \n",
       "\n",
       "                                                                                                         JustMatrixClause  \\\n",
       "0  *-1 to know, uh, how do you feel *t*-2 about, uh, about * sending, uh, an elderly, uh, family member to a nursing home   \n",
       "1                                                                                                                     NaN   \n",
       "2                                              *-1 doing it when it got to the point that we had *-2 to do it *t*-3 *t*-4   \n",
       "3                                                                                                                     NaN   \n",
       "4                                                                                                                     NaN   \n",
       "\n",
       "  DeterminerSubjPresent DeterminerNonSubjPresent WhNode     WhParse  \\\n",
       "0                    no                       no    NaN   (WRB how)   \n",
       "1                    no                       no    NaN    (WP who)   \n",
       "2                    no                       no    NaN  (WRB when)   \n",
       "3                    no                       no    NaN    (WP who)   \n",
       "4                    no                       no    NaN    (WP who)   \n",
       "\n",
       "                                                                                                                                                                                 Question  \\\n",
       "0                                                                                   how do you feel *t*-2 about, uh, about * sending, uh, an elderly, uh, family member to a nursing home   \n",
       "1                                                                                                                              who, uh, *t*-1 ran the nursing home in our little hometown   \n",
       "2                                                                                                                           when it got to the point that we had *-2 to do it *t*-3 *t*-4   \n",
       "3                                                 who *t*-1 had fell and needed * to be, you know, could not take care of herself anymore, was confined *-2 to a nursing home for a while   \n",
       "4  who *t*-1 is, you know, for most of their life has, has, uh, not just merely had a farm but had ten children had a farm, ran everything because her husband was away in the coal mines   \n",
       "\n",
       "                                                                                                                                                                                                                                                                                                                                                                                                                                                                                                                                                                                                                                                                                                                                                                                                                                                                                                 SentenceParse  \\\n",
       "0                                                                                                                                                                                                                                                  (TOP (S (INTJ (UH Uh)) (, ,) (ADVP-TMP (RB first)) (, ,) (INTJ (UH um)) (, ,) (NP-SBJ-1 (PRP I)) (VP (VBP need) (S (NP-SBJ (-NONE- *-1)) (VP (TO to) (VP (VB know) (, ,) (INTJ (UH uh)) (, ,) (SBARQ (WHADVP-2 (WRB how)) (SQ (VBP do) (NP-SBJ (PRP you)) (VP (VB feel) (ADVP (-NONE- *T*-2)) (EDITED (RM (-DFL- \\[)) (PP-UNF (IN about)) (, ,) (IP (-DFL- \\+))) (INTJ (UH uh)) (, ,) (PP (IN about) (RS (-DFL- \\])) (S-NOM (NP-SBJ (-NONE- *)) (VP (VBG sending) (, ,) (INTJ (UH uh)) (, ,) (NP (DT an) (JJ elderly) (, ,) (INTJ (UH uh)) (, ,) (NN family) (NN member)) (PP-DIR (IN to) (NP (DT a) (NN nursing) (NN home))))))))))))) (. ?) (-DFL- E_S)))   \n",
       "1                                                                                                                                                                                                                                                                    (TOP (S (CC And) (, ,) (INTJ (UH uh)) (, ,) (EDITED (RM (-DFL- \\[)) (S (NP-SBJ (PRP we)) (VP-UNF (VBD were))) (, ,) (IP (-DFL- \\+))) (NP-SBJ (PRP I)) (VP (VBD was) (RS (-DFL- \\])) (ADJP-PRD (JJ fortunate) (SBAR-PRP (IN in) (IN that) (-DFL- E_S) (S (NP-SBJ (PRP I)) (VP (VBD was) (ADJP-PRD (RB personally) (VBN acquainted) (PP (IN with) (NP (NP (DT the) (, ,) (INTJ (UH uh)) (, ,) (NNS people)) (SBAR (WHNP-1 (WP who)) (, ,) (INTJ (UH uh)) (, ,) (S (NP-SBJ (-NONE- *T*-1)) (VP (VBD ran) (NP (NP (DT the) (NN nursing) (NN home)) (PP-LOC (IN in) (NP (PRP$ our) (JJ little) (NN hometown))))))))))))))) (. .) (-DFL- E_S)))   \n",
       "2                                                                                                                                                                                                                                                                                                                                              (TOP (S (RB So) (, ,) (NP-SBJ-1 (PRP I)) (VP (VBD was) (ADJP-PRD (RB very) (JJ comfortable) (PRN (, ,) (S (NP-SBJ (PRP you)) (VP (VBP know))) (, ,)) (PP (IN in) (S-NOM (NP-SBJ (-NONE- *-1)) (VP (VBG doing) (NP (PRP it)) (SBAR-TMP (WHADVP-4 (WRB when)) (S (NP-SBJ (PRP it)) (VP (VBD got) (PP (IN to) (NP (NP (DT the) (NN point)) (SBAR (WHADVP-3 (WDT that)) (S (NP-SBJ-2 (PRP we)) (VP (VBD had) (S (NP-SBJ (-NONE- *-2)) (VP (TO to) (VP (VB do) (NP (PRP it)) (ADVP-TMP (-NONE- *T*-3)))))))))) (ADVP-TMP (-NONE- *T*-4)))))))))) (. .) (-DFL- E_S)))   \n",
       "3                                                                                                                                                                           (TOP (S (INTJ (UH well)) (, ,) (NP-SBJ (PRP I)) (VP (VBD had) (NP (NP (DT an) (NN occasion)) (PP (IN for) (NP (NP (PRP$ my) (NN mother-in-law)) (SBAR (WHNP-1 (WP who)) (S (NP-SBJ-2 (-NONE- *T*-1)) (VP (VP (VBD had) (VP (VBN fell))) (CC and) (EDITED (RM (-DFL- \\[)) (VP (VBD needed) (S (NP-SBJ (-NONE- *)) (VP (TO to) (VP-UNF (VB be))))) (, ,) (IP (-DFL- \\+)) (RS (-DFL- \\]))) (PRN (S (NP-SBJ (PRP you)) (VP (VBP know))) (, ,)) (VP (MD could) (RB not) (VP (VB take) (NP (NN care)) (PP (IN of) (NP (PRP herself))) (ADVP-TMP (RB anymore)))) (, ,) (VP (VBD was) (VP (VBN confined) (NP (-NONE- *-2)) (PP (IN to) (NP (DT a) (NN nursing) (NN home))) (PP-TMP (IN for) (NP (DT a) (NN while)))))))))))) (-DFL- E_S)))   \n",
       "4  (TOP (FRAG (PRN (S (NP-SBJ (PRP I)) (VP (VBP mean))) (, ,)) (PP (IN for) (NP (NP (NN somebody)) (SBAR (WHNP-1 (WP who)) (S (NP-SBJ (-NONE- *T*-1)) (EDITED (RM (-DFL- \\[)) (VP-UNF (VBZ is)) (, ,) (IP (-DFL- \\+)) (RS (-DFL- \\]))) (PRN (S (NP-SBJ (PRP you)) (VP (VBP know))) (, ,)) (PP-TMP (IN for) (NP (NP (JJS most)) (PP (IN of) (NP (PRP$ their) (NN life))))) (EDITED (RM (-DFL- \\[)) (VP-UNF (VBZ has)) (, ,) (IP (-DFL- \\+))) (VP (VBZ has) (, ,) (RS (-DFL- \\])) (INTJ (UH uh)) (, ,) (RB not) (ADVP (RB just)) (ADVP (RB merely)) (VP (VP (VBN had) (NP (DT a) (NN farm))) (CC but) (VP (VBD had) (NP (CD ten) (NNS children))) (VP (VBD had) (NP (DT a) (NN farm))) (, ,) (VP (VBD ran) (NP (NN everything)) (SBAR-PRP (IN because) (S (NP-SBJ (PRP$ her) (NN husband)) (VP (VBD was) (PP-LOC-PRD (ADVP (RB away)) (IN in) (NP (DT the) (NN coal) (NNS mines))))))))))))) (. .) (-DFL- E_S)))   \n",
       "\n",
       "     WhPhaseType IdentityQ  \n",
       "0  monomorphemic       NaN  \n",
       "1  monomorphemic        no  \n",
       "2  monomorphemic        no  \n",
       "3  monomorphemic        no  \n",
       "4  monomorphemic        no  \n",
       "\n",
       "[5 rows x 43 columns]"
      ]
     },
     "execution_count": 63,
     "metadata": {},
     "output_type": "execute_result"
    }
   ],
   "source": [
    "df.head()"
   ]
  },
  {
   "cell_type": "code",
   "execution_count": 64,
   "metadata": {},
   "outputs": [],
   "source": [
    "# This makes the display show more info\n",
    "pd.set_option('display.max_rows', None)\n",
    "pd.set_option('display.max_colwidth', None)"
   ]
  },
  {
   "cell_type": "code",
   "execution_count": 65,
   "metadata": {},
   "outputs": [
    {
     "data": {
      "text/html": [
       "<div>\n",
       "<style scoped>\n",
       "    .dataframe tbody tr th:only-of-type {\n",
       "        vertical-align: middle;\n",
       "    }\n",
       "\n",
       "    .dataframe tbody tr th {\n",
       "        vertical-align: top;\n",
       "    }\n",
       "\n",
       "    .dataframe thead th {\n",
       "        text-align: right;\n",
       "    }\n",
       "</style>\n",
       "<table border=\"1\" class=\"dataframe\">\n",
       "  <thead>\n",
       "    <tr style=\"text-align: right;\">\n",
       "      <th></th>\n",
       "      <th>QuestionType</th>\n",
       "      <th>Question</th>\n",
       "    </tr>\n",
       "  </thead>\n",
       "  <tbody>\n",
       "    <tr>\n",
       "      <th>0</th>\n",
       "      <td>adjunct</td>\n",
       "      <td>0.075203</td>\n",
       "    </tr>\n",
       "    <tr>\n",
       "      <th>1</th>\n",
       "      <td>cleft</td>\n",
       "      <td>0.064712</td>\n",
       "    </tr>\n",
       "    <tr>\n",
       "      <th>2</th>\n",
       "      <td>embadjunct</td>\n",
       "      <td>0.236886</td>\n",
       "    </tr>\n",
       "    <tr>\n",
       "      <th>3</th>\n",
       "      <td>embedded</td>\n",
       "      <td>0.160800</td>\n",
       "    </tr>\n",
       "    <tr>\n",
       "      <th>4</th>\n",
       "      <td>fragment</td>\n",
       "      <td>0.067654</td>\n",
       "    </tr>\n",
       "    <tr>\n",
       "      <th>5</th>\n",
       "      <td>relative</td>\n",
       "      <td>0.133150</td>\n",
       "    </tr>\n",
       "    <tr>\n",
       "      <th>6</th>\n",
       "      <td>root</td>\n",
       "      <td>0.124424</td>\n",
       "    </tr>\n",
       "    <tr>\n",
       "      <th>7</th>\n",
       "      <td>subject</td>\n",
       "      <td>0.137072</td>\n",
       "    </tr>\n",
       "  </tbody>\n",
       "</table>\n",
       "</div>"
      ],
      "text/plain": [
       "  QuestionType  Question\n",
       "0      adjunct  0.075203\n",
       "1        cleft  0.064712\n",
       "2   embadjunct  0.236886\n",
       "3     embedded  0.160800\n",
       "4     fragment  0.067654\n",
       "5     relative  0.133150\n",
       "6         root  0.124424\n",
       "7      subject  0.137072"
      ]
     },
     "execution_count": 65,
     "metadata": {},
     "output_type": "execute_result"
    }
   ],
   "source": [
    "df.pivot_table(index=['QuestionType'], values=\"Question\", aggfunc=len).groupby([\"QuestionType\"]).Question.transform(lambda x: x/len(df)).reset_index()"
   ]
  },
  {
   "cell_type": "markdown",
   "metadata": {},
   "source": [
    "# Constrain the dataset to stimuli set\n",
    "for experimental mock-up\n",
    "\n",
    "First we have to remove the questions that we don;t want to include:\n",
    "1. embedded questions only\n",
    "2. no degree questions\n",
    "3. no identity questions\n",
    "4. generally only monomorphemic wh-phrases\n",
    "5. only who-, what-, where-, when-, how-, and why-questions"
   ]
  },
  {
   "cell_type": "code",
   "execution_count": 66,
   "metadata": {},
   "outputs": [],
   "source": [
    "critical = df[(df['QuestionType'] == 'embedded') # only embedded questions\n",
    "              & \n",
    "              (df['Finite'] == 'no' )] # infinitival clauses\n",
    "            "
   ]
  },
  {
   "cell_type": "code",
   "execution_count": 67,
   "metadata": {},
   "outputs": [
    {
     "data": {
      "text/plain": [
       "135"
      ]
     },
     "execution_count": 67,
     "metadata": {},
     "output_type": "execute_result"
    }
   ],
   "source": [
    "len(critical)"
   ]
  },
  {
   "cell_type": "code",
   "execution_count": 68,
   "metadata": {},
   "outputs": [
    {
     "data": {
      "text/plain": [
       "210"
      ]
     },
     "execution_count": 68,
     "metadata": {},
     "output_type": "execute_result"
    }
   ],
   "source": [
    "7*30"
   ]
  },
  {
   "cell_type": "markdown",
   "metadata": {},
   "source": [
    "### Figuring out how many lists\n",
    "\n",
    "135/20\n",
    "\n",
    "6 lists of 20, 1 of 15\n",
    "\n",
    "15 how / 6list\n",
    "4 whats / 6 lists\n",
    "then random sample 1 item from the remainders\n",
    "\n",
    "last list is whatever's left over (total 15 items)\n",
    "\n",
    "\n",
    "### Number of participants\n",
    "7Lists*30 subjects/list = 210"
   ]
  },
  {
   "cell_type": "markdown",
   "metadata": {},
   "source": [
    "# Combine contexts with constrained db"
   ]
  },
  {
   "cell_type": "code",
   "execution_count": 69,
   "metadata": {},
   "outputs": [],
   "source": [
    "# read in df with contexts\n",
    "cntxts = pd.read_csv(\"swbd_contexts.csv\")"
   ]
  },
  {
   "cell_type": "code",
   "execution_count": null,
   "metadata": {},
   "outputs": [],
   "source": []
  },
  {
   "cell_type": "code",
   "execution_count": 70,
   "metadata": {},
   "outputs": [],
   "source": [
    "cntxts = cntxts.drop(columns=\"FollowingContext\")"
   ]
  },
  {
   "cell_type": "code",
   "execution_count": 71,
   "metadata": {},
   "outputs": [],
   "source": [
    "# get the indixes from critical\n",
    "crit_index = critical.Item_ID"
   ]
  },
  {
   "cell_type": "markdown",
   "metadata": {},
   "source": [
    "### Merge back in Wh colum\n",
    "so we can sample proportionately based on Wh"
   ]
  },
  {
   "cell_type": "code",
   "execution_count": 72,
   "metadata": {},
   "outputs": [],
   "source": [
    "df_Wh = critical[[\"Item_ID\",\"Wh\",\"Question\"]].rename(columns={\"Item_ID\": \"TGrepID\"})"
   ]
  },
  {
   "cell_type": "code",
   "execution_count": 73,
   "metadata": {},
   "outputs": [],
   "source": [
    "# subset to the items that are just the ones filtered in the previos section\n",
    "\n",
    "# otherwise, if using the database file with contexts directly in there, then this step\n",
    "# is not necessary\n",
    "df_valid = cntxts[cntxts[\"TGrepID\"].isin(set(crit_index))]"
   ]
  },
  {
   "cell_type": "code",
   "execution_count": 74,
   "metadata": {},
   "outputs": [],
   "source": [
    "# Merge\n",
    "df_valid = df_valid.merge(df_Wh, how = 'inner', indicator=False)"
   ]
  },
  {
   "cell_type": "code",
   "execution_count": 75,
   "metadata": {},
   "outputs": [
    {
     "data": {
      "text/html": [
       "<div>\n",
       "<style scoped>\n",
       "    .dataframe tbody tr th:only-of-type {\n",
       "        vertical-align: middle;\n",
       "    }\n",
       "\n",
       "    .dataframe tbody tr th {\n",
       "        vertical-align: top;\n",
       "    }\n",
       "\n",
       "    .dataframe thead th {\n",
       "        text-align: right;\n",
       "    }\n",
       "</style>\n",
       "<table border=\"1\" class=\"dataframe\">\n",
       "  <thead>\n",
       "    <tr style=\"text-align: right;\">\n",
       "      <th></th>\n",
       "      <th>TGrepID</th>\n",
       "      <th>EntireSentence</th>\n",
       "      <th>PreceedingContext</th>\n",
       "      <th>Wh</th>\n",
       "      <th>Question</th>\n",
       "    </tr>\n",
       "  </thead>\n",
       "  <tbody>\n",
       "    <tr>\n",
       "      <th>0</th>\n",
       "      <td>1049:139</td>\n",
       "      <td>i also thought about it, was of, uh, *-1 waiting *-2 to talk to you that, another thing that *t*-4 occurred to me is 0 there is not so much invasion of my privacy because i know how *-5 to behave *t*-6 such that there isn't *?*.</td>\n",
       "      <td>###speakera67.###yeah.###speakerb68.###so, maybe that is a, a little bit of what privacy is *t*-1.###speakera69.###yes.###exactly.###speakerb70.###speakera71.###uh-huh.</td>\n",
       "      <td>how</td>\n",
       "      <td>how *-5 to behave *t*-6 such that there isn't *?*</td>\n",
       "    </tr>\n",
       "    <tr>\n",
       "      <th>1</th>\n",
       "      <td>1130:56</td>\n",
       "      <td>and if that's gone, um, i, i really don't know how *-1 to live *t*-2 very well,</td>\n",
       "      <td>###i actually###for al-, of the time 0 i've spent *t*-1 there, i still don't quite understand how certain things that i assume 0 *t*-2 and require privacy and require not just that you be alone but actually that you have a sense of privacy *t*-3.###speakerb94.###yes.###speakera95.###because anyone can be alone for some period of time###but for me a lot of what i do *t*-1 requires a sense that there's this invisible barrier around me which people wil-, will respect *t*-2.###speakerb96.###yes.###speakera97.</td>\n",
       "      <td>how</td>\n",
       "      <td>how *-1 to live *t*-2 very well</td>\n",
       "    </tr>\n",
       "    <tr>\n",
       "      <th>2</th>\n",
       "      <td>4531:36</td>\n",
       "      <td>and more and more people start *-2 believing them or wondering how * to combine them with other things *t*-1,</td>\n",
       "      <td>###and, part of it is 0 california, you know, in, back in the sixties, had a lot of alternative movements###speakerb98.###speakera99.###and some of them fizzled out###and some of them were disastrous###and others of them, um, had an impact on the society around here.###and one of the ones that *t*-1 had an impact was, uh, people becoming interested in alternate practices,###i'm not sure if it was a meditation practice, or if it was, you know, which *t*-1 is similar to a stress management practice or alternates to, uh, a m a approved medicine.###uh, you have, you know, major, um, acupuncture schools and things out here.### and, and you could have them around long enough</td>\n",
       "      <td>how</td>\n",
       "      <td>how * to combine them with other things *t*-1</td>\n",
       "    </tr>\n",
       "    <tr>\n",
       "      <th>3</th>\n",
       "      <td>6397:23</td>\n",
       "      <td>so, i really don't know how * to compare it to other big companies *t*-1, you know.</td>\n",
       "      <td>###speakera67.###speakerb68.###that's right.###well, you know, t i, you know, t i offers some good stuff###and then i think 0 there's, i mean i think 0 there's some negatives,###but there's going *-1 to be some negatives anywhere, you know, no matter where you go *t*-2.###i have, you know, all,###this is the first really large company 0 i've worked for *t*-1.###i've always been involved in little small, you know, ind-, privately owned s-, owned firms###and so i've never had the, the big benefit package.</td>\n",
       "      <td>how</td>\n",
       "      <td>how * to compare it to other big companies *t*-1</td>\n",
       "    </tr>\n",
       "    <tr>\n",
       "      <th>4</th>\n",
       "      <td>7981:19</td>\n",
       "      <td>you don't even know who *-1 to payoff *t*-2, huh?.</td>\n",
       "      <td>###speakerb90.###yeah,###speakera91.###most of the time.###speakerb92.###but the politics, the politics gets worse in the small towns sometimes.###speakera93.###oh man, in dallas you don't even know who *t*-1's in, in administration,###there's so many of them.###speakerb94.</td>\n",
       "      <td>who</td>\n",
       "      <td>who *-1 to payoff *t*-2</td>\n",
       "    </tr>\n",
       "  </tbody>\n",
       "</table>\n",
       "</div>"
      ],
      "text/plain": [
       "    TGrepID  \\\n",
       "0  1049:139   \n",
       "1   1130:56   \n",
       "2   4531:36   \n",
       "3   6397:23   \n",
       "4   7981:19   \n",
       "\n",
       "                                                                                                                                                                                                                         EntireSentence  \\\n",
       "0  i also thought about it, was of, uh, *-1 waiting *-2 to talk to you that, another thing that *t*-4 occurred to me is 0 there is not so much invasion of my privacy because i know how *-5 to behave *t*-6 such that there isn't *?*.   \n",
       "1                                                                                                                                                       and if that's gone, um, i, i really don't know how *-1 to live *t*-2 very well,   \n",
       "2                                                                                                                         and more and more people start *-2 believing them or wondering how * to combine them with other things *t*-1,   \n",
       "3                                                                                                                                                   so, i really don't know how * to compare it to other big companies *t*-1, you know.   \n",
       "4                                                                                                                                                                                    you don't even know who *-1 to payoff *t*-2, huh?.   \n",
       "\n",
       "                                                                                                                                                                                                                                                                                                                                                                                                                                                                                                                                                                                                                                                                                       PreceedingContext  \\\n",
       "0                                                                                                                                                                                                                                                                                                                                                                                                                                                                                                                               ###speakera67.###yeah.###speakerb68.###so, maybe that is a, a little bit of what privacy is *t*-1.###speakera69.###yes.###exactly.###speakerb70.###speakera71.###uh-huh.   \n",
       "1                                                                                                                                                                         ###i actually###for al-, of the time 0 i've spent *t*-1 there, i still don't quite understand how certain things that i assume 0 *t*-2 and require privacy and require not just that you be alone but actually that you have a sense of privacy *t*-3.###speakerb94.###yes.###speakera95.###because anyone can be alone for some period of time###but for me a lot of what i do *t*-1 requires a sense that there's this invisible barrier around me which people wil-, will respect *t*-2.###speakerb96.###yes.###speakera97.   \n",
       "2  ###and, part of it is 0 california, you know, in, back in the sixties, had a lot of alternative movements###speakerb98.###speakera99.###and some of them fizzled out###and some of them were disastrous###and others of them, um, had an impact on the society around here.###and one of the ones that *t*-1 had an impact was, uh, people becoming interested in alternate practices,###i'm not sure if it was a meditation practice, or if it was, you know, which *t*-1 is similar to a stress management practice or alternates to, uh, a m a approved medicine.###uh, you have, you know, major, um, acupuncture schools and things out here.### and, and you could have them around long enough   \n",
       "3                                                                                                                                                                           ###speakera67.###speakerb68.###that's right.###well, you know, t i, you know, t i offers some good stuff###and then i think 0 there's, i mean i think 0 there's some negatives,###but there's going *-1 to be some negatives anywhere, you know, no matter where you go *t*-2.###i have, you know, all,###this is the first really large company 0 i've worked for *t*-1.###i've always been involved in little small, you know, ind-, privately owned s-, owned firms###and so i've never had the, the big benefit package.   \n",
       "4                                                                                                                                                                                                                                                                                                                                                                                                                     ###speakerb90.###yeah,###speakera91.###most of the time.###speakerb92.###but the politics, the politics gets worse in the small towns sometimes.###speakera93.###oh man, in dallas you don't even know who *t*-1's in, in administration,###there's so many of them.###speakerb94.   \n",
       "\n",
       "    Wh                                           Question  \n",
       "0  how  how *-5 to behave *t*-6 such that there isn't *?*  \n",
       "1  how                    how *-1 to live *t*-2 very well  \n",
       "2  how      how * to combine them with other things *t*-1  \n",
       "3  how   how * to compare it to other big companies *t*-1  \n",
       "4  who                            who *-1 to payoff *t*-2  "
      ]
     },
     "execution_count": 75,
     "metadata": {},
     "output_type": "execute_result"
    }
   ],
   "source": [
    "df_valid.head()"
   ]
  },
  {
   "cell_type": "markdown",
   "metadata": {},
   "source": [
    "# Split EntireSentence on Question \n",
    "This is necessary because we need to bold the question only and not the Matrix in the experimental file"
   ]
  },
  {
   "cell_type": "code",
   "execution_count": 76,
   "metadata": {},
   "outputs": [],
   "source": [
    "# split EntireSentence at the string that matches the value in the 'question' column\n",
    "df_valid[\"Matrix\"] = df_valid.apply(lambda x: x['EntireSentence'].replace(x['Question'],\"\").strip(),axis=1)"
   ]
  },
  {
   "cell_type": "code",
   "execution_count": 77,
   "metadata": {},
   "outputs": [],
   "source": [
    "# split that last punctuation off, to be added back on in .js script\n",
    "df_valid[\"punct\"] = df_valid[\"Matrix\"].apply(lambda x: list(x)[-1])"
   ]
  },
  {
   "cell_type": "code",
   "execution_count": 78,
   "metadata": {},
   "outputs": [],
   "source": [
    "# remove that final punct from the Matrix column\n",
    "df_valid[\"Matrix\"] = df_valid[\"Matrix\"].apply(lambda x: x.replace(list(x)[-1], ' '))"
   ]
  },
  {
   "cell_type": "code",
   "execution_count": 79,
   "metadata": {
    "scrolled": true
   },
   "outputs": [
    {
     "data": {
      "text/html": [
       "<div>\n",
       "<style scoped>\n",
       "    .dataframe tbody tr th:only-of-type {\n",
       "        vertical-align: middle;\n",
       "    }\n",
       "\n",
       "    .dataframe tbody tr th {\n",
       "        vertical-align: top;\n",
       "    }\n",
       "\n",
       "    .dataframe thead th {\n",
       "        text-align: right;\n",
       "    }\n",
       "</style>\n",
       "<table border=\"1\" class=\"dataframe\">\n",
       "  <thead>\n",
       "    <tr style=\"text-align: right;\">\n",
       "      <th></th>\n",
       "      <th>TGrepID</th>\n",
       "      <th>EntireSentence</th>\n",
       "      <th>PreceedingContext</th>\n",
       "      <th>Wh</th>\n",
       "      <th>Question</th>\n",
       "      <th>Matrix</th>\n",
       "      <th>punct</th>\n",
       "    </tr>\n",
       "  </thead>\n",
       "  <tbody>\n",
       "    <tr>\n",
       "      <th>0</th>\n",
       "      <td>1049:139</td>\n",
       "      <td>i also thought about it, was of, uh, *-1 waiting *-2 to talk to you that, another thing that *t*-4 occurred to me is 0 there is not so much invasion of my privacy because i know how *-5 to behave *t*-6 such that there isn't *?*.</td>\n",
       "      <td>###speakera67.###yeah.###speakerb68.###so, maybe that is a, a little bit of what privacy is *t*-1.###speakera69.###yes.###exactly.###speakerb70.###speakera71.###uh-huh.</td>\n",
       "      <td>how</td>\n",
       "      <td>how *-5 to behave *t*-6 such that there isn't *?*</td>\n",
       "      <td>i also thought about it, was of, uh, *-1 waiting *-2 to talk to you that, another thing that *t*-4 occurred to me is 0 there is not so much invasion of my privacy because i know</td>\n",
       "      <td>.</td>\n",
       "    </tr>\n",
       "    <tr>\n",
       "      <th>1</th>\n",
       "      <td>1130:56</td>\n",
       "      <td>and if that's gone, um, i, i really don't know how *-1 to live *t*-2 very well,</td>\n",
       "      <td>###i actually###for al-, of the time 0 i've spent *t*-1 there, i still don't quite understand how certain things that i assume 0 *t*-2 and require privacy and require not just that you be alone but actually that you have a sense of privacy *t*-3.###speakerb94.###yes.###speakera95.###because anyone can be alone for some period of time###but for me a lot of what i do *t*-1 requires a sense that there's this invisible barrier around me which people wil-, will respect *t*-2.###speakerb96.###yes.###speakera97.</td>\n",
       "      <td>how</td>\n",
       "      <td>how *-1 to live *t*-2 very well</td>\n",
       "      <td>and if that's gone  um  i  i really don't know</td>\n",
       "      <td>,</td>\n",
       "    </tr>\n",
       "    <tr>\n",
       "      <th>2</th>\n",
       "      <td>4531:36</td>\n",
       "      <td>and more and more people start *-2 believing them or wondering how * to combine them with other things *t*-1,</td>\n",
       "      <td>###and, part of it is 0 california, you know, in, back in the sixties, had a lot of alternative movements###speakerb98.###speakera99.###and some of them fizzled out###and some of them were disastrous###and others of them, um, had an impact on the society around here.###and one of the ones that *t*-1 had an impact was, uh, people becoming interested in alternate practices,###i'm not sure if it was a meditation practice, or if it was, you know, which *t*-1 is similar to a stress management practice or alternates to, uh, a m a approved medicine.###uh, you have, you know, major, um, acupuncture schools and things out here.### and, and you could have them around long enough</td>\n",
       "      <td>how</td>\n",
       "      <td>how * to combine them with other things *t*-1</td>\n",
       "      <td>and more and more people start *-2 believing them or wondering</td>\n",
       "      <td>,</td>\n",
       "    </tr>\n",
       "    <tr>\n",
       "      <th>3</th>\n",
       "      <td>6397:23</td>\n",
       "      <td>so, i really don't know how * to compare it to other big companies *t*-1, you know.</td>\n",
       "      <td>###speakera67.###speakerb68.###that's right.###well, you know, t i, you know, t i offers some good stuff###and then i think 0 there's, i mean i think 0 there's some negatives,###but there's going *-1 to be some negatives anywhere, you know, no matter where you go *t*-2.###i have, you know, all,###this is the first really large company 0 i've worked for *t*-1.###i've always been involved in little small, you know, ind-, privately owned s-, owned firms###and so i've never had the, the big benefit package.</td>\n",
       "      <td>how</td>\n",
       "      <td>how * to compare it to other big companies *t*-1</td>\n",
       "      <td>so, i really don't know , you know</td>\n",
       "      <td>.</td>\n",
       "    </tr>\n",
       "    <tr>\n",
       "      <th>4</th>\n",
       "      <td>7981:19</td>\n",
       "      <td>you don't even know who *-1 to payoff *t*-2, huh?.</td>\n",
       "      <td>###speakerb90.###yeah,###speakera91.###most of the time.###speakerb92.###but the politics, the politics gets worse in the small towns sometimes.###speakera93.###oh man, in dallas you don't even know who *t*-1's in, in administration,###there's so many of them.###speakerb94.</td>\n",
       "      <td>who</td>\n",
       "      <td>who *-1 to payoff *t*-2</td>\n",
       "      <td>you don't even know , huh?</td>\n",
       "      <td>.</td>\n",
       "    </tr>\n",
       "  </tbody>\n",
       "</table>\n",
       "</div>"
      ],
      "text/plain": [
       "    TGrepID  \\\n",
       "0  1049:139   \n",
       "1   1130:56   \n",
       "2   4531:36   \n",
       "3   6397:23   \n",
       "4   7981:19   \n",
       "\n",
       "                                                                                                                                                                                                                         EntireSentence  \\\n",
       "0  i also thought about it, was of, uh, *-1 waiting *-2 to talk to you that, another thing that *t*-4 occurred to me is 0 there is not so much invasion of my privacy because i know how *-5 to behave *t*-6 such that there isn't *?*.   \n",
       "1                                                                                                                                                       and if that's gone, um, i, i really don't know how *-1 to live *t*-2 very well,   \n",
       "2                                                                                                                         and more and more people start *-2 believing them or wondering how * to combine them with other things *t*-1,   \n",
       "3                                                                                                                                                   so, i really don't know how * to compare it to other big companies *t*-1, you know.   \n",
       "4                                                                                                                                                                                    you don't even know who *-1 to payoff *t*-2, huh?.   \n",
       "\n",
       "                                                                                                                                                                                                                                                                                                                                                                                                                                                                                                                                                                                                                                                                                       PreceedingContext  \\\n",
       "0                                                                                                                                                                                                                                                                                                                                                                                                                                                                                                                               ###speakera67.###yeah.###speakerb68.###so, maybe that is a, a little bit of what privacy is *t*-1.###speakera69.###yes.###exactly.###speakerb70.###speakera71.###uh-huh.   \n",
       "1                                                                                                                                                                         ###i actually###for al-, of the time 0 i've spent *t*-1 there, i still don't quite understand how certain things that i assume 0 *t*-2 and require privacy and require not just that you be alone but actually that you have a sense of privacy *t*-3.###speakerb94.###yes.###speakera95.###because anyone can be alone for some period of time###but for me a lot of what i do *t*-1 requires a sense that there's this invisible barrier around me which people wil-, will respect *t*-2.###speakerb96.###yes.###speakera97.   \n",
       "2  ###and, part of it is 0 california, you know, in, back in the sixties, had a lot of alternative movements###speakerb98.###speakera99.###and some of them fizzled out###and some of them were disastrous###and others of them, um, had an impact on the society around here.###and one of the ones that *t*-1 had an impact was, uh, people becoming interested in alternate practices,###i'm not sure if it was a meditation practice, or if it was, you know, which *t*-1 is similar to a stress management practice or alternates to, uh, a m a approved medicine.###uh, you have, you know, major, um, acupuncture schools and things out here.### and, and you could have them around long enough   \n",
       "3                                                                                                                                                                           ###speakera67.###speakerb68.###that's right.###well, you know, t i, you know, t i offers some good stuff###and then i think 0 there's, i mean i think 0 there's some negatives,###but there's going *-1 to be some negatives anywhere, you know, no matter where you go *t*-2.###i have, you know, all,###this is the first really large company 0 i've worked for *t*-1.###i've always been involved in little small, you know, ind-, privately owned s-, owned firms###and so i've never had the, the big benefit package.   \n",
       "4                                                                                                                                                                                                                                                                                                                                                                                                                     ###speakerb90.###yeah,###speakera91.###most of the time.###speakerb92.###but the politics, the politics gets worse in the small towns sometimes.###speakera93.###oh man, in dallas you don't even know who *t*-1's in, in administration,###there's so many of them.###speakerb94.   \n",
       "\n",
       "    Wh                                           Question  \\\n",
       "0  how  how *-5 to behave *t*-6 such that there isn't *?*   \n",
       "1  how                    how *-1 to live *t*-2 very well   \n",
       "2  how      how * to combine them with other things *t*-1   \n",
       "3  how   how * to compare it to other big companies *t*-1   \n",
       "4  who                            who *-1 to payoff *t*-2   \n",
       "\n",
       "                                                                                                                                                                                Matrix  \\\n",
       "0  i also thought about it, was of, uh, *-1 waiting *-2 to talk to you that, another thing that *t*-4 occurred to me is 0 there is not so much invasion of my privacy because i know     \n",
       "1                                                                                                                                     and if that's gone  um  i  i really don't know     \n",
       "2                                                                                                                     and more and more people start *-2 believing them or wondering     \n",
       "3                                                                                                                                                  so, i really don't know , you know    \n",
       "4                                                                                                                                                          you don't even know , huh?    \n",
       "\n",
       "  punct  \n",
       "0     .  \n",
       "1     ,  \n",
       "2     ,  \n",
       "3     .  \n",
       "4     .  "
      ]
     },
     "execution_count": 79,
     "metadata": {},
     "output_type": "execute_result"
    }
   ],
   "source": [
    "df_valid.head()"
   ]
  },
  {
   "cell_type": "markdown",
   "metadata": {},
   "source": [
    "# Generating random samples"
   ]
  },
  {
   "cell_type": "markdown",
   "metadata": {},
   "source": [
    "## First Iteration"
   ]
  },
  {
   "cell_type": "markdown",
   "metadata": {},
   "source": [
    "6 lists of 20, 1 of 15\n",
    "\n",
    "15 how / 6 list\n",
    "4 whats / 6 lists\n",
    "then random sample 1 item from the remainders\n",
    "\n",
    "last list is whatever's left over (total 15 items)"
   ]
  },
  {
   "cell_type": "code",
   "execution_count": 80,
   "metadata": {},
   "outputs": [],
   "source": [
    "for n in range(1,7):\n",
    "    how_sample = df_valid[df_valid[\"Wh\"] == \"how\"].sample(15)\n",
    "    df_valid = df_valid.drop(how_sample.index)    \n",
    "    \n",
    "    what_sample = df_valid[df_valid[\"Wh\"] == \"what\"].sample(4)\n",
    "    df_valid = df_valid.drop(what_sample.index)\n",
    "    \n",
    "    final_sample = df_valid[\n",
    "        (df_valid[\"Wh\"] != \"how\") &\n",
    "        (df_valid[\"Wh\"] != \"what\")\n",
    "    ].sample(1)\n",
    "    df_valid = df_valid.drop(final_sample.index)\n",
    "\n",
    "    \n",
    "    total = pd.concat([how_sample,what_sample,final_sample])\n",
    "    # save to file\n",
    "    filename = f\"../../experiments/clean_corpus/01_experiment/corpus_{n}.txt\".format(n=n)\n",
    "    total.to_csv(filename,header=True,sep=\"\\t\",index=False)\n",
    "    \n",
    "    \n",
    "    \n",
    "    "
   ]
  },
  {
   "cell_type": "markdown",
   "metadata": {},
   "source": [
    "## Final Set\n",
    "\n",
    "List = 15\n",
    "\n",
    "10 how"
   ]
  },
  {
   "cell_type": "code",
   "execution_count": 81,
   "metadata": {},
   "outputs": [
    {
     "data": {
      "text/plain": [
       "15"
      ]
     },
     "execution_count": 81,
     "metadata": {},
     "output_type": "execute_result"
    }
   ],
   "source": [
    "len(df_valid)"
   ]
  }
 ],
 "metadata": {
  "kernelspec": {
   "display_name": "Python 3",
   "language": "python",
   "name": "python3"
  },
  "language_info": {
   "codemirror_mode": {
    "name": "ipython",
    "version": 3
   },
   "file_extension": ".py",
   "mimetype": "text/x-python",
   "name": "python",
   "nbconvert_exporter": "python",
   "pygments_lexer": "ipython3",
   "version": "3.7.6"
  }
 },
 "nbformat": 4,
 "nbformat_minor": 4
}
